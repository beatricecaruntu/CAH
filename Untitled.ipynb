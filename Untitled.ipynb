{
 "cells": [
  {
   "cell_type": "code",
   "execution_count": 1,
   "metadata": {},
   "outputs": [],
   "source": [
    "import pandas as pd\n",
    "import numpy as np\n",
    "from sqlite3 import connect\n",
    "from sys import stderr\n",
    "from os import path"
   ]
  },
  {
   "cell_type": "code",
   "execution_count": 4,
   "metadata": {},
   "outputs": [],
   "source": [
    "qts = pd.read_excel('questions.xlsx')\n",
    "qts_np = np.array(qts)"
   ]
  },
  {
   "cell_type": "code",
   "execution_count": 5,
   "metadata": {},
   "outputs": [
    {
     "data": {
      "text/plain": [
       "117"
      ]
     },
     "execution_count": 5,
     "metadata": {},
     "output_type": "execute_result"
    }
   ],
   "source": [
    "qts_np.size"
   ]
  },
  {
   "cell_type": "code",
   "execution_count": 7,
   "metadata": {},
   "outputs": [
    {
     "name": "stdout",
     "output_type": "stream",
     "text": [
      "______: good to the last drop.\n",
      "______: kid-tested, mother-approved.\n",
      "______: Once you pop, the fun don't stop!\n",
      "______? Jim'll fix it!\n",
      "______? There's an app for that.\n",
      "______? Yeah, nah.\n",
      "______. Awesome in theory, kind of a mess in practice.\n",
      "______. Betcha can't have just one!\n",
      "______. High five, bro.\n",
      "______. It's a trap!\n",
      "______. That was so metal.\n",
      "______. That's how I want to die.\n",
      "50% of all marriages end in ______.\n",
      "A recent laboratory study shows that undergraduates have 50% less sex after being exposed to ______.\n",
      "A remarkable new study has shown that chimps have evolved their own primitive version of ______.\n",
      "A romantic candlelit dinner would be incomplete without ______.\n",
      "A successful job interview begins with a firm handshake and ends with ______.\n",
      "After four platinum albums and three Grammys, it's time to get back to my roots, to what inspired me to make music in the first place: ______.\n",
      "Airport security guidelines now prohibit ______ on airplanes.\n",
      "Alternative medicine is now embracing the curative powers of ______.\n",
      "Anthropologists have recently discovered a primitive tribe that worships ______.\n",
      "Arby's: We Have ______.\n",
      "As my New Year's resolution, I vow to give up ______.\n",
      "As the mom of five rambunctious boys, I'm no stranger to ______.\n",
      "Brought to you by Bud Light®, the Official Beer of ______.\n",
      "But before I kill you, Mr. Bond, I must show you ______.\n",
      "Channel 5's new reality show features eight washed-up celebrities living with ______.\n",
      "Channel 9 is pleased to present its new variety show, \"Hey Hey It's ______.\"\n",
      "Charades was ruined for me forever when my mom had to act out ______.\n",
      "Check me out, yo! I call this dance move \"______.\"\n",
      "Click Here for ______!!!\n",
      "Coming this season, Samuel Beckett's classic existential play: Waiting for ______.\n",
      "Coming to Broadway this season, ______: The Musical.\n",
      "Daddy, why is mummy crying?\n",
      "Dude, do not go in that bathroom. There's ______ in there.\n",
      "During his childhood, Salvador Dali produced hundreds of paintings of ______.\n",
      "During his midlife crisis, my dad got really into ______.\n",
      "During Picasso's often-overlooked Brown Period, he produced hundreds of paintings of ______.\n",
      "During sex, I like to think about ______.\n",
      "Finally! A service that delivers ______ right to your door.\n",
      "Future historians will agree that ______ marked the beginning of America's decline.\n",
      "Here is the church\n",
      "Here is the steeple\n",
      "Open the doors\n",
      "And there is ______.\n",
      "Hey guys, welcome to Boston Pizza! Would you like to start the night off right with ______?\n",
      "Hey guys, welcome to Chili's! Would you like to start the night off right with ______?\n",
      "Hey Reddit! I'm ______. Ask me anything.\n",
      "How am I maintaining my relationship status?\n",
      "How did I lose my virginity?\n",
      "I do not know with what weapons World War III will be fought, but World War IV will be fought with ______.\n",
      "I drink to forget ______.\n",
      "I get by with a little help from ______.\n",
      "I got 99 problems but ______ ain't one.\n",
      "I know when that hotline bling, that can only mean one thing: ______.\n",
      "I learned the hard way that you can't cheer up a grieving friend with ______.\n",
      "I wish I hadn't lost the instruction manual for ______.\n",
      "I'm going on a cleanse this week. Nothing but kale juice and ______.\n",
      "I'm no doctor, but I'm pretty sure what you're suffering from is called \"______.\"\n",
      "I'm sorry, Professor, but I couldn't complete my homework because of ______.\n",
      "I'm sorry, Sir, but I couldn't complete my homework because of ______.\n",
      "I’m not like the rest of you. I’m too rich and busy for ______.\n",
      "If you can't be with the one you love, love ______.\n",
      "In an attempt to reach a wider audience, the National Museum of Australia has opened an interactive exhibit on ______.\n",
      "In Australia, ______ is twice as big and twice as deadly.\n",
      "In Belmarsh Prison, word is you can trade 200 cigarettes for ______.\n",
      "In his new self-produced album, Kanye West raps over the sounds of ______.\n",
      "In Rome, there are whisperings that the Vatican has a secret room devoted to ______.\n",
      "In the new Disney Channel Original Movie, Hannah Montana struggles with ______ for the first time.\n",
      "In the seventh circle of Hell, sinners must endure ______ for all eternity.\n",
      "Instead of coal, Santa now gives the bad children ______.\n",
      "It's a trap!\n",
      "It’s a pity that kids these days are all getting involved with ______.\n",
      "Kids, I don't need drugs to get high. I'm high on ______.\n",
      "Life was difficult for cavemen before ______.\n",
      "Maybe she's born with it. Maybe it's ______.\n",
      "Money can’t buy me love, but it can buy me ______.\n",
      "Mr. and Mrs. Diaz, we called you in because we're concerned about Cynthia. Are you aware that your daughter is ______?\n",
      "MTV's new reality show features eight washed-up celebrities living with ______.\n",
      "Next on Eurosport: The World Championship of _______.\n",
      "Oi! Show us ______!\n",
      "Only two things in life are certain: death and ______.\n",
      "Penalty! ______: that's 5 minutes in the box!\n",
      "Studies show that lab rats navigate mazes 50% faster after being exposed to ______.\n",
      "TFL apologizes for the delay in train service due to ______.\n",
      "The blind date was going horribly until we discovered our shared interest in ______.\n",
      "The class field trip was completely ruined by ______.\n",
      "The Natural History Museum has just opened an interactive exhibit on ________.\n",
      "The secret to a lasting marriage is communication, communication, and ______.\n",
      "This is your captain speaking. Fasten your seatbelts and prepare for ______.\n",
      "Today on The Jeremy Kyle Show: \"Help! My son is ________!\"\n",
      "Tonight's top story: What you don't know about ________ could kill you.\n",
      "TSA guidelines now prohibit ______ on airplanes.\n",
      "Turns out that ______-Man was neither the hero we needed nor wanted.\n",
      "Uh, hey guys, I know this was my idea, but I'm having serious doubts about ______.\n",
      "War! What is it good for?\n",
      "Well if you'll excuse me, gentlemen, I have a date with ______.\n",
      "What are my parents hiding from me?\n",
      "What did I bring back from Amsterdam?\n",
      "What did I bring back from Bali?\n",
      "What did I bring back from Mexico?\n",
      "What did Vin Diesel eat for dinner?\n",
      "What don't you want to find in your Chinese food?\n",
      "What ended my last relationship?\n",
      "What gets better with age?\n",
      "What gives me uncontrollable gas?\n",
      "What has been making life difficult at the nudist colony?\n",
      "What is Batman's guilty pleasure?\n",
      "What left this stain on my couch?\n",
      "What made my first kiss so awkward?\n",
      "What makes life worth living?\n",
      "What's a girl's best friend?\n",
      "What's my anti-drug?\n",
      "What's that smell?\n",
      "What's that sound?\n",
      "What's the next Happy Meal® toy?\n",
      "What's there a ton of in heaven?\n",
      "When I am President, I will create the Department of ______.\n",
      "Who stole the cookies from the cookie jar?\n",
      "Your persistence is admirable, my dear Prince. But you cannot win my heart with ______ alone.\n"
     ]
    }
   ],
   "source": [
    "for i in range(0, qts_np.size):\n",
    "    print(qts_np[i,0])"
   ]
  },
  {
   "cell_type": "code",
   "execution_count": 62,
   "metadata": {},
   "outputs": [],
   "source": [
    "#DATABASE_NAME = 'cards.db'\n",
    "#connection = connect(DATABASE_NAME)\n",
    "\n",
    "#cursor = connection.cursor()\n",
    "#comanda = 'INSERT INTO answers (a_id, answer) VALUES (?, ?);'\n",
    "        \n",
    "        \n",
    "        \n",
    "#for i in range(0, 206):\n",
    "#    cursor.execute(comanda, [i, str((qts_np[i,0])),])\n",
    "#    connection.commit()\n",
    "#cursor.close()"
   ]
  },
  {
   "cell_type": "code",
   "execution_count": 59,
   "metadata": {},
   "outputs": [
    {
     "data": {
      "text/plain": [
       "'A slightly shittier parallel universe.'"
      ]
     },
     "execution_count": 59,
     "metadata": {},
     "output_type": "execute_result"
    }
   ],
   "source": [
    "str((qts_np[1,0]))"
   ]
  },
  {
   "cell_type": "code",
   "execution_count": 63,
   "metadata": {},
   "outputs": [],
   "source": [
    "#DATABASE_NAME = 'cards.db'\n",
    "#connection = connect(DATABASE_NAME)\n",
    "#comanda = 'INSERT INTO combinatii (q_id, a_id) VALUES (?, ?);'\n",
    "#cursor = connection.cursor()\n",
    "#for i in range(0, 117):\n",
    "#    for j in range(0, 206):\n",
    "#        cursor.execute(comanda, [i, j,])\n",
    "#        connection.commit()\n",
    "\n",
    "#cursor.close()"
   ]
  },
  {
   "cell_type": "code",
   "execution_count": 64,
   "metadata": {},
   "outputs": [],
   "source": [
    "#DATABASE_NAME = 'cards.db'\n",
    "#connection = connect(DATABASE_NAME)\n",
    "comanda = 'UPDATE combinatii  SET score = 0;'\n",
    "#cursor = connection.cursor()\n",
    "#cursor.execute(comanda)\n",
    "#connection.commit()\n",
    "#cursor.close()"
   ]
  },
  {
   "cell_type": "code",
   "execution_count": null,
   "metadata": {},
   "outputs": [],
   "source": []
  }
 ],
 "metadata": {
  "kernelspec": {
   "display_name": "Python 3",
   "language": "python",
   "name": "python3"
  },
  "language_info": {
   "codemirror_mode": {
    "name": "ipython",
    "version": 3
   },
   "file_extension": ".py",
   "mimetype": "text/x-python",
   "name": "python",
   "nbconvert_exporter": "python",
   "pygments_lexer": "ipython3",
   "version": "3.8.2"
  }
 },
 "nbformat": 4,
 "nbformat_minor": 4
}
